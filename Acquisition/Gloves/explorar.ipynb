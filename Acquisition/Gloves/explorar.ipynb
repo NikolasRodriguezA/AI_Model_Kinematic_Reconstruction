{
 "cells": [
  {
   "cell_type": "code",
   "execution_count": 21,
   "metadata": {},
   "outputs": [],
   "source": [
    "import os\n",
    "import datetime\n",
    "import pandas as pd\n",
    "import numpy as np"
   ]
  },
  {
   "cell_type": "code",
   "execution_count": 5,
   "metadata": {},
   "outputs": [
    {
     "name": "stdout",
     "output_type": "stream",
     "text": [
      "['cristian_derecha_00_guante.csv', 'cristian_izquierda_03_guante.csv', 'cristian_izquierda_01_guante.csv', 'cristian_izquierda_00_guante.csv', 'cristian_izquierda_02_guante.csv', 'cristian_derecha_02_guante.csv', 'cristian_derecha_01_guante.csv', 'cristian_derecha_03_guante.csv']\n"
     ]
    }
   ],
   "source": [
    "ruta_carpeta = '/home/morlock/Desktop/Maestría/Tesis/Repo_Tesis/AI_Model_Kinematic_Reconstruction/Acquisition/Gloves'\n",
    "archivos_en_carpeta = os.listdir(ruta_carpeta)\n",
    "archivos_csv = [archivo for archivo in archivos_en_carpeta if archivo.endswith('.csv')]\n",
    "print(archivos_csv)"
   ]
  },
  {
   "cell_type": "code",
   "execution_count": 44,
   "metadata": {},
   "outputs": [
    {
     "data": {
      "text/plain": [
       "['/home/morlock/Desktop/Maestría/Tesis/Repo_Tesis/AI_Model_Kinematic_Reconstruction/Acquisition/Gloves/cristian_derecha_00_guante.csv',\n",
       " '/home/morlock/Desktop/Maestría/Tesis/Repo_Tesis/AI_Model_Kinematic_Reconstruction/Acquisition/Gloves/cristian_izquierda_03_guante.csv',\n",
       " '/home/morlock/Desktop/Maestría/Tesis/Repo_Tesis/AI_Model_Kinematic_Reconstruction/Acquisition/Gloves/cristian_izquierda_01_guante.csv',\n",
       " '/home/morlock/Desktop/Maestría/Tesis/Repo_Tesis/AI_Model_Kinematic_Reconstruction/Acquisition/Gloves/cristian_izquierda_00_guante.csv',\n",
       " '/home/morlock/Desktop/Maestría/Tesis/Repo_Tesis/AI_Model_Kinematic_Reconstruction/Acquisition/Gloves/cristian_izquierda_02_guante.csv',\n",
       " '/home/morlock/Desktop/Maestría/Tesis/Repo_Tesis/AI_Model_Kinematic_Reconstruction/Acquisition/Gloves/cristian_derecha_02_guante.csv',\n",
       " '/home/morlock/Desktop/Maestría/Tesis/Repo_Tesis/AI_Model_Kinematic_Reconstruction/Acquisition/Gloves/cristian_derecha_01_guante.csv',\n",
       " '/home/morlock/Desktop/Maestría/Tesis/Repo_Tesis/AI_Model_Kinematic_Reconstruction/Acquisition/Gloves/cristian_derecha_03_guante.csv']"
      ]
     },
     "execution_count": 44,
     "metadata": {},
     "output_type": "execute_result"
    }
   ],
   "source": [
    "files_dir_list = []\n",
    "for file in archivos_csv:\n",
    "    files_dir = ruta_carpeta + \"/\" + file\n",
    "    files_dir_list.append(files_dir)\n",
    "files_dir_list"
   ]
  },
  {
   "cell_type": "code",
   "execution_count": 42,
   "metadata": {},
   "outputs": [],
   "source": [
    "def get_file_creation_time(file_dir):\n",
    "    info_archivo = os.stat(file_dir)\n",
    "    timestamp_creacion = info_archivo.st_ctime\n",
    "    fecha_hora_creacion = datetime.datetime.fromtimestamp(timestamp_creacion)\n",
    "\n",
    "    formato_deseado = fecha_hora_creacion.strftime('%Y-%m-%d-%H:%M:%S.%f')\n",
    "\n",
    "    return formato_deseado\n",
    "\n",
    "def restar_segundos(row):\n",
    "    segundos_a_restar = row['Seconds']\n",
    "    nueva_fecha = creation_time - pd.Timedelta(seconds=segundos_a_restar)\n",
    "    return nueva_fecha\n",
    "    \n",
    "\n",
    "def process_data_gloves(file_dir, archivo_csv):\n",
    "    creation_time = get_file_creation_time(file_dir)\n",
    "    creation_time = pd.to_datetime(creation_time, format='%Y-%m-%d-%H:%M:%S.%f')\n",
    "\n",
    "    df = pd.read_csv(file_dir, sep='\\t')\n",
    "    df['Seconds'] = df['STAMP']/1000\n",
    "    df['Sample_Time'] = df.apply(restar_segundos, axis=1)\n",
    "    time_list = df['Sample_Time'].to_list()\n",
    "    lista_invertida = list(reversed(time_list))\n",
    "    df['Sample_Time'] = lista_invertida\n",
    "\n",
    "    df.to_csv(archivo_csv[:-4] + \"_Processed.csv\", index=False, sep=';')\n",
    "\n",
    "\n",
    "for file_dir_process ,file_2_process in zip(files_dir_list, archivos_csv):\n",
    "    process_data_gloves(file_dir_process, file_2_process)"
   ]
  }
 ],
 "metadata": {
  "kernelspec": {
   "display_name": "base",
   "language": "python",
   "name": "python3"
  },
  "language_info": {
   "codemirror_mode": {
    "name": "ipython",
    "version": 3
   },
   "file_extension": ".py",
   "mimetype": "text/x-python",
   "name": "python",
   "nbconvert_exporter": "python",
   "pygments_lexer": "ipython3",
   "version": "3.11.3"
  },
  "orig_nbformat": 4
 },
 "nbformat": 4,
 "nbformat_minor": 2
}
